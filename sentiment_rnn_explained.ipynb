{
 "cells": [
  {
   "cell_type": "code",
   "execution_count": 1,
   "metadata": {
    "collapsed": false,
    "deletable": true,
    "editable": true
   },
   "outputs": [],
   "source": [
    "# Packages\n",
    "import numpy as np\n",
    "import tensorflow as tf\n",
    "from string import punctuation\n",
    "from collections import Counter"
   ]
  },
  {
   "cell_type": "code",
   "execution_count": 2,
   "metadata": {
    "collapsed": true,
    "deletable": true,
    "editable": true
   },
   "outputs": [],
   "source": [
    "# Import data"
   ]
  },
  {
   "cell_type": "code",
   "execution_count": 3,
   "metadata": {
    "collapsed": true,
    "deletable": true,
    "editable": true
   },
   "outputs": [],
   "source": [
    "# import raw reviews and labels\n",
    "with open('./input_data/movie_reviews/reviews.txt', 'r') as f:\n",
    "    reviews_raw = f.read()\n",
    "with open('./input_data/movie_reviews/labels.txt', 'r') as f:\n",
    "    labels_raw = f.read()"
   ]
  },
  {
   "cell_type": "markdown",
   "metadata": {},
   "source": [
    "## View and Preprocess Data"
   ]
  },
  {
   "cell_type": "markdown",
   "metadata": {},
   "source": [
    "### Reviews"
   ]
  },
  {
   "cell_type": "code",
   "execution_count": 4,
   "metadata": {
    "collapsed": false,
    "deletable": true,
    "editable": true
   },
   "outputs": [
    {
     "name": "stdout",
     "output_type": "stream",
     "text": [
      "bromwell high is a cartoon comedy . it ran at the same time as some other programs about school life  such as  teachers  . my   years in the teaching profession lead me to believe that bromwell high  s satire is much closer to reality than is  teachers  . the scramble to survive financially  the insightful students who can see right through their pathetic teachers  pomp  the pettiness of the whole situation  all remind me of the schools i knew and their students . when i saw the episode in which a student repeatedly tried to burn down the school  i immediately recalled . . . . . . . . . at . . . . . . . . . . high . a classic line inspector i  m here to sack one of your teachers . student welcome to bromwell high . i expect that many adults of my age think that bromwell high is far fetched . what a pity that it isn  t   \n",
      "story of a man who has unnatural feelings for a pig . starts out with a opening scene that is a terrific example of absurd comedy . a formal orchestra audience is turn\n"
     ]
    }
   ],
   "source": [
    "# inspect reviews\n",
    "print(reviews_raw[:1000])"
   ]
  },
  {
   "cell_type": "code",
   "execution_count": 5,
   "metadata": {
    "collapsed": false
   },
   "outputs": [
    {
     "name": "stdout",
     "output_type": "stream",
     "text": [
      "bromwell high is a cartoon comedy  it ran at the same time as some other programs about school life  such as  teachers   my   years in the teaching profession lead me to believe that bromwell high  s satire is much closer to reality than is  teachers   the scramble to survive financially  the insightful students who can see right through their pathetic teachers  pomp  the pettiness of the whole situation  all remind me of the schools i knew and their students  when i saw the episode in which a student repeatedly tried to burn down the school  i immediately recalled          at           high  a classic line inspector i  m here to sack one of your teachers  student welcome to bromwell high  i expect that many adults of my age think that bromwell high is far fetched  what a pity that it isn  t   \n",
      "story of a man who has unnatural feelings for a pig  starts out with a opening scene that is a terrific example of absurd comedy  a formal orchestra audience is turned into an insane  violent mo\n"
     ]
    }
   ],
   "source": [
    "# remove puctuation\n",
    "# Note: this could be done in a number of ways, NLTK for example\n",
    "all_reviews_text = ''.join([char for char in reviews_raw if char not in punctuation])\n",
    "print(all_reviews_text[:1000])"
   ]
  },
  {
   "cell_type": "code",
   "execution_count": 6,
   "metadata": {
    "collapsed": false
   },
   "outputs": [
    {
     "name": "stdout",
     "output_type": "stream",
     "text": [
      "25000\n",
      "this is one of the dumbest films  i  ve ever seen  it rips off nearly ever type of thriller and manages to make a mess of them all   br    br   there  s not a single good line or character in the whole mess  if there was a plot  it was an afterthought and as far as acting goes  there  s nothing good to say so ill say nothing  i honestly cant understand how this type of nonsense gets produced and actually released  does somebody somewhere not at some stage think   oh my god this really is a load of shite  and call it a day  its crap like this that has people downloading illegally  the trailer looks like a completely different film  at least if you have download it  you haven  t wasted your time or money don  t waste your time  this is painful   \n"
     ]
    }
   ],
   "source": [
    "# split into individual reviews (they are delimited by a '\\n')\n",
    "reviews = all_reviews_text.split('\\n')\n",
    "# this leaves a \"\" empty value in the last index\n",
    "# sample: print(len(reviews)) > 25001 == \"\"\n",
    "# delete this last empty value\n",
    "del reviews[25000]\n",
    "print(len(reviews))\n",
    "print(reviews[24999])"
   ]
  },
  {
   "cell_type": "code",
   "execution_count": 7,
   "metadata": {
    "collapsed": false,
    "scrolled": true
   },
   "outputs": [
    {
     "name": "stdout",
     "output_type": "stream",
     "text": [
      "['bromwell', 'high', 'is', 'a', 'cartoon', 'comedy', 'it', 'ran', 'at', 'the', 'same', 'time', 'as', 'some', 'other', 'programs', 'about', 'school', 'life', 'such', 'as', 'teachers', 'my', 'years', 'in', 'the', 'teaching', 'profession', 'lead', 'me', 'to', 'believe', 'that', 'bromwell', 'high', 's', 'satire', 'is', 'much', 'closer', 'to', 'reality', 'than', 'is', 'teachers', 'the', 'scramble', 'to', 'survive', 'financially', 'the', 'insightful', 'students', 'who', 'can', 'see', 'right', 'through', 'their', 'pathetic', 'teachers', 'pomp', 'the', 'pettiness', 'of', 'the', 'whole', 'situation', 'all', 'remind', 'me', 'of', 'the', 'schools', 'i', 'knew', 'and', 'their', 'students', 'when', 'i', 'saw', 'the', 'episode', 'in', 'which', 'a', 'student', 'repeatedly', 'tried', 'to', 'burn', 'down', 'the', 'school', 'i', 'immediately', 'recalled', 'at', 'high']\n"
     ]
    }
   ],
   "source": [
    "# get list of all words used in the reviews\n",
    "words = all_reviews_text.split()\n",
    "print(words[:100])"
   ]
  },
  {
   "cell_type": "markdown",
   "metadata": {},
   "source": [
    "### Encoding the words\n",
    "#### Create 'vocab_to_int' mapping"
   ]
  },
  {
   "cell_type": "code",
   "execution_count": 8,
   "metadata": {
    "collapsed": false
   },
   "outputs": [],
   "source": [
    "word_counts = Counter(words)\n",
    "# output sample| print(word_counts) > 'Counter({'the': 336713, 'and': 164107, 'a': 163009, ....'\n",
    "\n",
    "vocab = sorted(word_counts, key=word_counts.get, reverse=True)\n",
    "# output sample| print(vocab) > '['the', 'and', 'a', 'of', 'to','\n",
    "\n",
    "# convert vocab to int\n",
    "# NOTE: start at 1, not 0!\n",
    "vocab_to_int = {word: maping_int for maping_int, word in enumerate(vocab, 1) }\n",
    "# output sample| print(vocab_to_int) > ''together': 291, 'ewing': 26224,'"
   ]
  },
  {
   "cell_type": "markdown",
   "metadata": {},
   "source": [
    "#### Convert each review to an 'int review'\n",
    "where the reviews aren't words, each word is converted to an 'int id'"
   ]
  },
  {
   "cell_type": "code",
   "execution_count": 9,
   "metadata": {
    "collapsed": false
   },
   "outputs": [
    {
     "name": "stdout",
     "output_type": "stream",
     "text": [
      "25000\n"
     ]
    }
   ],
   "source": [
    "reviews_as_ints = []\n",
    "for review_cur in reviews:\n",
    "    reviews_as_ints.append([vocab_to_int[term] for term in review_cur.split()])\n",
    "print(len(reviews_as_ints))"
   ]
  },
  {
   "cell_type": "code",
   "execution_count": 10,
   "metadata": {
    "collapsed": false
   },
   "outputs": [
    {
     "name": "stdout",
     "output_type": "stream",
     "text": [
      "Review:\n",
      "story of a man who has unnatural feelings for a pig  starts out with a opening scene that is a terrific example of absurd comedy  a formal orchestra audience is turned into an insane  violent mob by the crazy chantings of it  s singers  unfortunately it stays absurd the whole time with no general narrative eventually making it just too off putting  even those from the era should be turned off  the cryptic dialogue would make shakespeare seem easy to a third grader  on a technical level it  s better than you might think with some good cinematography by future great vilmos zsigmond  future stars sally kirkland and frederic forrest can be seen briefly   \n",
      "------------------\n",
      "Review with terms mapped to ints:\n",
      "[63, 4, 3, 125, 36, 47, 7496, 1398, 16, 3, 4181, 505, 45, 17, 3, 622, 134, 12, 6, 3, 1279, 457, 4, 1721, 207, 3, 10759, 7444, 300, 6, 667, 83, 35, 2116, 1086, 3002, 34, 1, 898, 55204, 4, 8, 13, 5132, 464, 8, 2668, 1721, 1, 221, 57, 17, 58, 795, 1300, 832, 228, 8, 43, 98, 123, 1470, 59, 147, 38, 1, 965, 142, 29, 667, 123, 1, 13939, 410, 61, 95, 1775, 306, 756, 5, 3, 819, 10474, 22, 3, 1726, 635, 8, 13, 128, 73, 21, 233, 102, 17, 49, 50, 618, 34, 683, 85, 29554, 30926, 683, 374, 3351, 11608, 2, 16433, 7999, 51, 29, 108, 3339]\n"
     ]
    }
   ],
   "source": [
    "# compare\n",
    "print(\"Review:\")\n",
    "print(reviews[1])\n",
    "print(\"------------------\")\n",
    "print(\"Review with terms mapped to ints:\")\n",
    "print(reviews_as_ints[1])"
   ]
  },
  {
   "cell_type": "code",
   "execution_count": 11,
   "metadata": {
    "collapsed": false
   },
   "outputs": [
    {
     "name": "stdout",
     "output_type": "stream",
     "text": [
      "185\n",
      "Number reviews: 25000\n",
      "Zero-length reviews: 0\n",
      "Avg review length: 240.80784\n",
      "Maximum review length: 2514\n"
     ]
    }
   ],
   "source": [
    "# review state of reviews\n",
    "review_lengths = Counter([len(each_review) for each_review in reviews_as_ints])\n",
    "print(review_lengths[130])\n",
    "review_len_list = list(review_lengths)\n",
    "rl_sorted = sorted(review_len_list)\n",
    "num_reviews = len(reviews_as_ints)\n",
    "avg_len = sum(val * review_lengths[val] for val in review_lengths) / num_reviews\n",
    "print(\"Number reviews: {}\".format(num_reviews))\n",
    "print(\"Zero-length reviews: {}\".format(review_lengths[0]))\n",
    "print(\"Avg review length: {}\".format(avg_len))\n",
    "print(\"Maximum review length: {}\".format(max(review_lengths)))"
   ]
  },
  {
   "cell_type": "markdown",
   "metadata": {},
   "source": [
    "### Couple problems:\n",
    "> 1. Max movie length is really long\n",
    "> 2. Avg review length is also pretty large.. half the data is larger than 240 words --> will take a long time to train a RNN\n",
    "\n",
    "### Both of these problems can be addressed by trimming the reviews\n",
    "> Will trim to `seq_len`"
   ]
  },
  {
   "cell_type": "code",
   "execution_count": 14,
   "metadata": {
    "collapsed": false
   },
   "outputs": [
    {
     "name": "stdout",
     "output_type": "stream",
     "text": [
      "25000\n",
      "[[    0     0     0     0     0     0     0     0     0     0     0     0\n",
      "      0     0     0     0     0     0     0     0     0     0     0     0\n",
      "      0     0     0     0     0     0     0     0     0     0     0     0\n",
      "      0     0     0     0     0     0     0     0     0     0     0     0\n",
      "      0     0     0     0     0     0     0     0     0     0     0     0\n",
      "      0     0     0     0     0     0     0     0     0     0     0     0\n",
      "      0     0     0     0     0     0     0     0     0     0     0     0\n",
      "      0     0     0     0     0     0     0     0     0     0     0     0\n",
      "      0     0     0     0     0     0     0     0     0     0     0     0\n",
      "      0     0 21478   308     6     3  1050   207     8  2138    32     1\n",
      "    171    57    15    49    81  5792    44   382   110   140    15  5201\n",
      "     60   154     9     1  5016  5878   475    71     5   260    12 21478\n",
      "    308    13  1979     6    74  2400     5   613    73     6  5201     1\n",
      "  24859     5  1988 10176     1  5789  1502    36    51    66   204   145\n",
      "     67  1201  5201 20935     1 41384     4     1   221   883    31  2997\n",
      "     71     4     1  5803    10   687     2    67  1502    54    10   216\n",
      "      1   383     9    62     3  1408  3702   784     5  3488   180     1\n",
      "    382    10  1214 13866    32   308     3   349   341  2919    10   143\n",
      "    127     5  7699    30     4   129  5201  1408  2335     5 21478   308\n",
      "     10   528    12   109  1450     4    60   543   102    12 21478   308\n",
      "      6   227  4160    48     3  2218    12     8   215    23]\n",
      " [    0     0     0     0     0     0     0     0     0     0     0     0\n",
      "      0     0     0     0     0     0     0     0     0     0     0     0\n",
      "      0     0     0     0     0     0     0     0     0     0     0     0\n",
      "      0     0     0     0     0     0     0     0     0     0     0     0\n",
      "      0     0     0     0     0     0     0     0     0     0     0     0\n",
      "      0     0     0     0     0     0     0     0     0     0     0     0\n",
      "      0     0     0     0     0     0     0     0     0     0     0     0\n",
      "      0     0     0     0     0     0     0     0     0     0     0     0\n",
      "      0     0     0     0     0     0     0     0     0     0     0     0\n",
      "      0     0     0     0     0     0     0     0     0     0     0     0\n",
      "      0     0     0     0     0     0     0     0     0     0     0     0\n",
      "      0     0     0     0    63     4     3   125    36    47  7496  1398\n",
      "     16     3  4181   505    45    17     3   622   134    12     6     3\n",
      "   1279   457     4  1721   207     3 10759  7444   300     6   667    83\n",
      "     35  2116  1086  3002    34     1   898 55204     4     8    13  5132\n",
      "    464     8  2668  1721     1   221    57    17    58   795  1300   832\n",
      "    228     8    43    98   123  1470    59   147    38     1   965   142\n",
      "     29   667   123     1 13939   410    61    95  1775   306   756     5\n",
      "      3   819 10474    22     3  1726   635     8    13   128    73    21\n",
      "    233   102    17    49    50   618    34   683    85 29554 30926   683\n",
      "    374  3351 11608     2 16433  7999    51    29   108  3339]]\n"
     ]
    }
   ],
   "source": [
    "# reviews_ints = [each for each in reviews_as_ints if len(each) > 0]\n",
    "seq_len = 250\n",
    "\n",
    "# convert reviews (as mapped ints) into numpy arrays\n",
    "# we'll use a left padding of '0's to compensate for smaller reviews\n",
    "reviews_as_feat_input = np.zeros((len(reviews_as_ints), seq_len), dtype=int)\n",
    "for i, row in enumerate(reviews_as_ints):\n",
    "    reviews_as_feat_input[i, -len(row):] = np.array(row)[:seq_len]\n",
    "\n",
    "# inspect our finalized reviews converted into usable data\n",
    "print(len(reviews_as_feat_input))\n",
    "print(reviews_as_feat_input[:2])"
   ]
  },
  {
   "cell_type": "markdown",
   "metadata": {},
   "source": [
    "### Labels"
   ]
  },
  {
   "cell_type": "code",
   "execution_count": 15,
   "metadata": {
    "collapsed": false
   },
   "outputs": [
    {
     "name": "stdout",
     "output_type": "stream",
     "text": [
      "positive\n",
      "negative\n",
      "positive\n",
      "negative\n",
      "posi\n"
     ]
    }
   ],
   "source": [
    "# view raw\n",
    "print(labels_raw[:40])"
   ]
  },
  {
   "cell_type": "code",
   "execution_count": 16,
   "metadata": {
    "collapsed": false
   },
   "outputs": [
    {
     "name": "stdout",
     "output_type": "stream",
     "text": [
      "25000\n",
      "1\n",
      "[1 0 1 0 1 0 1 0 1 0 1 0 1 0 1 0 1 0 1]\n"
     ]
    }
   ],
   "source": [
    "# Convert to a usable format\n",
    "\n",
    "# split into single review {'positive' or 'negative'}\n",
    "labels_list = labels_raw.split('\\n')\n",
    "\n",
    "# sample: print(len(labels_list)) > 25001 | print(labels_list[25000]) > \"\"\n",
    "# same logic as above, remove empty value\n",
    "del labels_list[-1]\n",
    "# convert to numpy array and map positive=>1 and negative=>0\n",
    "# NOTE: safer method would involve making sure only 'positive' and 'negative' are present first\n",
    "labels = np.array([1 if cur_label == 'positive' else 0 for cur_label in labels_list])\n",
    "\n",
    "# print to ensure we've converted correctly\n",
    "print(len(labels))\n",
    "print(labels[2500])\n",
    "print(labels[:19])"
   ]
  },
  {
   "cell_type": "markdown",
   "metadata": {
    "collapsed": true,
    "deletable": true,
    "editable": true
   },
   "source": [
    "## Split into training, validation, and testing"
   ]
  },
  {
   "cell_type": "code",
   "execution_count": 17,
   "metadata": {
    "collapsed": false,
    "deletable": true,
    "editable": true
   },
   "outputs": [
    {
     "name": "stdout",
     "output_type": "stream",
     "text": [
      "\t\t\tFeature Shapes:\n",
      "Train set: \t\t(20000, 250) \n",
      "Validation set: \t(2500, 250) \n",
      "Test set: \t\t(2500, 250)\n"
     ]
    }
   ],
   "source": [
    "split_percent = 0.8\n",
    "# this will mean 80% will be for training, 20% for 'testing'\n",
    "# this 20% testing will then be broken down in to 10% validation and 10% testing\n",
    "split_idx = int(len(reviews_as_feat_input)*split_percent)\n",
    "\n",
    "# split into (training and validation&testing)\n",
    "train_x, val_x = reviews_as_feat_input[:split_idx], reviews_as_feat_input[split_idx:]\n",
    "train_y, val_y = labels[:split_idx], labels[split_idx:]\n",
    "\n",
    "# split validation into validation and test sets\n",
    "test_idx = int(len(val_x)*0.5)\n",
    "val_x, test_x = val_x[:test_idx], val_x[test_idx:]\n",
    "val_y, test_y = val_y[:test_idx], val_y[test_idx:]\n",
    "\n",
    "print(\"\\t\\t\\tFeature Shapes:\")\n",
    "print(\"Train set: \\t\\t{}\".format(train_x.shape), \n",
    "      \"\\nValidation set: \\t{}\".format(val_x.shape),\n",
    "      \"\\nTest set: \\t\\t{}\".format(test_x.shape))"
   ]
  },
  {
   "cell_type": "markdown",
   "metadata": {},
   "source": [
    "## Overview of where we are\n",
    "\n",
    "### Inputs\n",
    "\n",
    "Labels\n",
    "> converted to 0 and 1\n",
    "\n",
    "Review text\n",
    "> 1. converted to integer representations\n",
    "> 2. trimmed to standardized size\n",
    "> 3. padded with 0's on the left\n",
    "\n",
    "### Split into training, validation, and testing\n",
    "80% training\n",
    "10% validation\n",
    "10% testing"
   ]
  },
  {
   "cell_type": "markdown",
   "metadata": {},
   "source": [
    "# Building the RNN"
   ]
  },
  {
   "cell_type": "code",
   "execution_count": 18,
   "metadata": {
    "collapsed": true,
    "deletable": true,
    "editable": true
   },
   "outputs": [],
   "source": [
    "# Hyper parameters\n",
    "lstm_size = 256\n",
    "lstm_layers = 1\n",
    "batch_size = 500\n",
    "learning_rate = 0.001"
   ]
  },
  {
   "cell_type": "code",
   "execution_count": 19,
   "metadata": {
    "collapsed": true
   },
   "outputs": [],
   "source": [
    "# Build Graph\n",
    "\n",
    "# number of words in our vocab\n",
    "n_words = len(vocab)\n",
    "\n",
    "# Create the graph object\n",
    "graph = tf.Graph()\n",
    "# Add nodes to the graph\n",
    "with graph.as_default():\n",
    "    inputs_ = tf.placeholder(tf.int32, [None, None], name='inputs')\n",
    "    labels_ = tf.placeholder(tf.int32, [None, None], name='labels')\n",
    "    # value for dropout\n",
    "    keep_prob = tf.placeholder(tf.float32, name='keep_prob')"
   ]
  },
  {
   "cell_type": "code",
   "execution_count": 20,
   "metadata": {
    "collapsed": true
   },
   "outputs": [],
   "source": [
    "# embedding\n",
    "# `embed_size` is the size of the embedding vectors or num of units in the embedding layer\n",
    "embed_size = 300 \n",
    "\n",
    "# TODO: Add initialization std\n",
    "\n",
    "with graph.as_default():\n",
    "    embedding = tf.Variable(tf.random_uniform((n_words, embed_size), -1, 1))\n",
    "    embed = tf.nn.embedding_lookup(embedding, inputs_)"
   ]
  },
  {
   "cell_type": "code",
   "execution_count": 21,
   "metadata": {
    "collapsed": true
   },
   "outputs": [],
   "source": [
    "with graph.as_default():\n",
    "    # basic LSTM cell\n",
    "    lstm = tf.contrib.rnn.BasicLSTMCell(lstm_size)\n",
    "    \n",
    "    # Add dropout to the cell\n",
    "    drop = tf.contrib.rnn.DropoutWrapper(lstm, output_keep_prob=keep_prob)\n",
    "    \n",
    "    # Stack up multiple LSTM layers, for deep learning\n",
    "    cell = tf.contrib.rnn.MultiRNNCell([drop] * lstm_layers)\n",
    "    \n",
    "    # Getting an initial state of all zeros\n",
    "    initial_state = cell.zero_state(batch_size, tf.float32)"
   ]
  },
  {
   "cell_type": "code",
   "execution_count": 22,
   "metadata": {
    "collapsed": false
   },
   "outputs": [],
   "source": [
    "# RNN forward pass\n",
    "# Pass the data through the RNN\n",
    "with graph.as_default():\n",
    "    outputs, final_state = tf.nn.dynamic_rnn(cell, embed,\n",
    "                                             initial_state=initial_state)"
   ]
  },
  {
   "cell_type": "code",
   "execution_count": 23,
   "metadata": {
    "collapsed": false
   },
   "outputs": [],
   "source": [
    "# output\n",
    "# we only care about the final output from the RNN (which we'll map to our classification {0(neg) or 1(pos)})\n",
    "# > we'll do this by using a fully connected layer with a single sigmoidal output node\n",
    "# > More specifically,\n",
    "# >   the output node will take in the last value from the RNN output{outputs[:, -1]} as the input\n",
    "with graph.as_default():\n",
    "    # get predictions (described above)\n",
    "    predictions = tf.contrib.layers.fully_connected(outputs[:, -1], 1, activation_fn=tf.sigmoid)\n",
    "    \n",
    "    # calculate cost (mean squared error here)\n",
    "    cost = tf.losses.mean_squared_error(labels_, predictions)\n",
    "    \n",
    "    # designate opimizer (adam is used here, but SGD or others could be used)\n",
    "    optimizer = tf.train.AdamOptimizer(learning_rate).minimize(cost)"
   ]
  },
  {
   "cell_type": "code",
   "execution_count": 24,
   "metadata": {
    "collapsed": true
   },
   "outputs": [],
   "source": [
    "# validation accuracy\n",
    "# > check to see how effective our training is so far\n",
    "with graph.as_default():\n",
    "    # messy casts/conversios\n",
    "    correct_pred = tf.equal(tf.cast(tf.round(predictions), tf.int32), labels_)\n",
    "    accuracy = tf.reduce_mean(tf.cast(correct_pred, tf.float32))"
   ]
  },
  {
   "cell_type": "code",
   "execution_count": 25,
   "metadata": {
    "collapsed": true
   },
   "outputs": [],
   "source": [
    "# Batching\n",
    "# > returns only full batches from our data\n",
    "# > NOTE: SOME DATA IS REMOVED HERE DEPENDING ON THE BATCH SIZE\n",
    "def get_batches(x, y, batch_size=100):\n",
    "    \n",
    "    # '//' divides then converts to int\n",
    "    n_batches = len(x)//batch_size\n",
    "    \n",
    "    x, y = x[:n_batches*batch_size], y[:n_batches*batch_size]\n",
    "    for ii in range(0, len(x), batch_size):\n",
    "        yield x[ii:ii+batch_size], y[ii:ii+batch_size]"
   ]
  },
  {
   "cell_type": "code",
   "execution_count": 28,
   "metadata": {
    "collapsed": false,
    "deletable": true,
    "editable": true
   },
   "outputs": [
    {
     "name": "stdout",
     "output_type": "stream",
     "text": [
      "Epoch: 0/5 Iteration: 5 Train loss: 0.242\n",
      "Epoch: 0/5 Iteration: 10 Train loss: 0.247\n",
      "Epoch: 0/5 Iteration: 15 Train loss: 0.215\n",
      "Epoch: 0/5 Iteration: 20 Train loss: 0.184\n",
      "Epoch: 0/5 Iteration: 25 Train loss: 0.227\n",
      "Val acc: 0.665\n",
      "Epoch: 0/5 Iteration: 30 Train loss: 0.213\n",
      "Epoch: 0/5 Iteration: 35 Train loss: 0.189\n",
      "Epoch: 0/5 Iteration: 40 Train loss: 0.219\n",
      "Epoch: 1/5 Iteration: 45 Train loss: 0.158\n",
      "Epoch: 1/5 Iteration: 50 Train loss: 0.166\n",
      "Val acc: 0.780\n",
      "Epoch: 1/5 Iteration: 55 Train loss: 0.143\n",
      "Epoch: 1/5 Iteration: 60 Train loss: 0.138\n",
      "Epoch: 1/5 Iteration: 65 Train loss: 0.135\n",
      "Epoch: 1/5 Iteration: 70 Train loss: 0.140\n",
      "Epoch: 1/5 Iteration: 75 Train loss: 0.121\n",
      "Val acc: 0.780\n",
      "Epoch: 1/5 Iteration: 80 Train loss: 0.125\n",
      "Epoch: 2/5 Iteration: 85 Train loss: 0.121\n",
      "Epoch: 2/5 Iteration: 90 Train loss: 0.161\n",
      "Epoch: 2/5 Iteration: 95 Train loss: 0.121\n",
      "Epoch: 2/5 Iteration: 100 Train loss: 0.110\n",
      "Val acc: 0.828\n",
      "Epoch: 2/5 Iteration: 105 Train loss: 0.096\n",
      "Epoch: 2/5 Iteration: 110 Train loss: 0.120\n",
      "Epoch: 2/5 Iteration: 115 Train loss: 0.156\n",
      "Epoch: 2/5 Iteration: 120 Train loss: 0.152\n",
      "Epoch: 3/5 Iteration: 125 Train loss: 0.086\n",
      "Val acc: 0.826\n",
      "Epoch: 3/5 Iteration: 130 Train loss: 0.153\n",
      "Epoch: 3/5 Iteration: 135 Train loss: 0.108\n",
      "Epoch: 3/5 Iteration: 140 Train loss: 0.146\n",
      "Epoch: 3/5 Iteration: 145 Train loss: 0.101\n",
      "Epoch: 3/5 Iteration: 150 Train loss: 0.126\n",
      "Val acc: 0.667\n",
      "Epoch: 3/5 Iteration: 155 Train loss: 0.455\n",
      "Epoch: 3/5 Iteration: 160 Train loss: 0.232\n",
      "Epoch: 4/5 Iteration: 165 Train loss: 0.203\n",
      "Epoch: 4/5 Iteration: 170 Train loss: 0.239\n",
      "Epoch: 4/5 Iteration: 175 Train loss: 0.223\n",
      "Val acc: 0.606\n",
      "Epoch: 4/5 Iteration: 180 Train loss: 0.207\n",
      "Epoch: 4/5 Iteration: 185 Train loss: 0.181\n",
      "Epoch: 4/5 Iteration: 190 Train loss: 0.190\n",
      "Epoch: 4/5 Iteration: 195 Train loss: 0.140\n",
      "Epoch: 4/5 Iteration: 200 Train loss: 0.150\n",
      "Val acc: 0.734\n"
     ]
    }
   ],
   "source": [
    "# Training\n",
    "epochs = 5\n",
    "\n",
    "with graph.as_default():\n",
    "    saver = tf.train.Saver()\n",
    "\n",
    "with tf.Session(graph=graph) as sess:\n",
    "    sess.run(tf.global_variables_initializer())\n",
    "    iteration = 1\n",
    "    for e in range(epochs):\n",
    "        state = sess.run(initial_state)\n",
    "        \n",
    "        for ii, (x, y) in enumerate(get_batches(train_x, train_y, batch_size), 1):\n",
    "            feed = {inputs_: x,\n",
    "                    labels_: y[:, None],\n",
    "                    keep_prob: 0.5,\n",
    "                    initial_state: state}\n",
    "            loss, state, _ = sess.run([cost, final_state, optimizer], feed_dict=feed)\n",
    "            \n",
    "            if iteration%5==0:\n",
    "                print(\"Epoch: {}/{}\".format(e, epochs),\n",
    "                      \"Iteration: {}\".format(iteration),\n",
    "                      \"Train loss: {:.3f}\".format(loss))\n",
    "\n",
    "            if iteration%25==0:\n",
    "                val_acc = []\n",
    "                val_state = sess.run(cell.zero_state(batch_size, tf.float32))\n",
    "                for x, y in get_batches(val_x, val_y, batch_size):\n",
    "                    feed = {inputs_: x,\n",
    "                            labels_: y[:, None],\n",
    "                            keep_prob: 1,\n",
    "                            initial_state: val_state}\n",
    "                    batch_acc, val_state = sess.run([accuracy, final_state], feed_dict=feed)\n",
    "                    val_acc.append(batch_acc)\n",
    "                print(\"Val acc: {:.3f}\".format(np.mean(val_acc)))\n",
    "            iteration +=1\n",
    "    saver.save(sess, \"checkpoints/sentiment.ckpt\")"
   ]
  },
  {
   "cell_type": "code",
   "execution_count": 29,
   "metadata": {
    "collapsed": false,
    "deletable": true,
    "editable": true
   },
   "outputs": [
    {
     "name": "stdout",
     "output_type": "stream",
     "text": [
      "Test accuracy: 0.747\n"
     ]
    }
   ],
   "source": [
    "test_acc = []\n",
    "with tf.Session(graph=graph) as sess:\n",
    "    saver.restore(sess, tf.train.latest_checkpoint('checkpoints'))\n",
    "    test_state = sess.run(cell.zero_state(batch_size, tf.float32))\n",
    "    for ii, (x, y) in enumerate(get_batches(test_x, test_y, batch_size), 1):\n",
    "        feed = {inputs_: x,\n",
    "                labels_: y[:, None],\n",
    "                keep_prob: 1,\n",
    "                initial_state: test_state}\n",
    "        batch_acc, test_state = sess.run([accuracy, final_state], feed_dict=feed)\n",
    "        test_acc.append(batch_acc)\n",
    "    print(\"Test accuracy: {:.3f}\".format(np.mean(test_acc)))"
   ]
  },
  {
   "cell_type": "code",
   "execution_count": null,
   "metadata": {
    "collapsed": true
   },
   "outputs": [],
   "source": []
  }
 ],
 "metadata": {
  "anaconda-cloud": {},
  "kernelspec": {
   "display_name": "Python [conda env:dl]",
   "language": "python",
   "name": "conda-env-dl-py"
  },
  "language_info": {
   "codemirror_mode": {
    "name": "ipython",
    "version": 3
   },
   "file_extension": ".py",
   "mimetype": "text/x-python",
   "name": "python",
   "nbconvert_exporter": "python",
   "pygments_lexer": "ipython3",
   "version": "3.5.2"
  }
 },
 "nbformat": 4,
 "nbformat_minor": 0
}
